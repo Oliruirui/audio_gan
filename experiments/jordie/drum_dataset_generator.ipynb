{
 "cells": [
  {
   "cell_type": "code",
   "execution_count": 6,
   "metadata": {},
   "outputs": [],
   "source": [
    "import os\n",
    "from pathlib import Path\n",
    "import numpy as np\n",
    "from tqdm import tqdm\n",
    "import librosa\n",
    "from librosa import feature"
   ]
  },
  {
   "cell_type": "code",
   "execution_count": 16,
   "metadata": {},
   "outputs": [],
   "source": [
    "def get_audio(sample_path):\n",
    "    \"\"\"\n",
    "    Load an audio file and extract a set of spectral features\n",
    "    \"\"\"\n",
    "    \n",
    "    audio, sr = librosa.load(sample_path, sr=16000)\n",
    "    \n",
    "    buffer = np.zeros(16384, dtype=np.float32)\n",
    "    \n",
    "    if audio.shape[0] < 16384:\n",
    "        buffer[0:audio.shape[0]] = audio[:]\n",
    "    else:\n",
    "        buffer[:] = audio[0:16384]\n",
    "\n",
    "    return buffer"
   ]
  },
  {
   "cell_type": "code",
   "execution_count": 17,
   "metadata": {},
   "outputs": [],
   "source": [
    "def find_samples(search_folder, sample_type):\n",
    "    \"\"\"\n",
    "    Look for WAV files stored under folders named sample_type\n",
    "    that are somewhere within the search_folder directory\n",
    "    \"\"\"\n",
    "    files = []\n",
    "    for path in Path(search_folder).rglob(sample_type):\n",
    "        for file in path.iterdir():\n",
    "            if file.name.lower().endswith('wav'):\n",
    "                files.append(file)\n",
    "    \n",
    "    return files"
   ]
  },
  {
   "cell_type": "code",
   "execution_count": 18,
   "metadata": {},
   "outputs": [
    {
     "name": "stdout",
     "output_type": "stream",
     "text": [
      "Loaded 2027 kick drum samples\n",
      "Loaded 2210 snare drum samples\n"
     ]
    }
   ],
   "source": [
    "samples = {\n",
    "    'kicks': find_samples('./drum_data', 'kick'),\n",
    "    'snares': find_samples('./drum_data', 'snare')\n",
    "}\n",
    "\n",
    "print(\"Loaded %s kick drum samples\" % len(samples['kicks']))\n",
    "print(\"Loaded %s snare drum samples\" % len(samples['snares']))"
   ]
  },
  {
   "cell_type": "code",
   "execution_count": 23,
   "metadata": {},
   "outputs": [
    {
     "name": "stderr",
     "output_type": "stream",
     "text": [
      "100%|██████████| 2210/2210 [00:36<00:00, 59.86it/s]\n"
     ]
    }
   ],
   "source": [
    "# Run feature extraction on all audio samples and keep track of the labels\n",
    "dataset = []\n",
    "sample_type = 'snares'\n",
    "for sample in tqdm(samples[sample_type]):\n",
    "    dataset.append(get_audio(sample))"
   ]
  },
  {
   "cell_type": "code",
   "execution_count": 24,
   "metadata": {},
   "outputs": [],
   "source": [
    "# Convert dataset to numpy array type and standardize by removing the mean and scaling to unit variance\n",
    "dataset = np.array(dataset, dtype=np.float)"
   ]
  },
  {
   "cell_type": "code",
   "execution_count": 25,
   "metadata": {},
   "outputs": [
    {
     "data": {
      "text/plain": [
       "(2210, 16384)"
      ]
     },
     "execution_count": 25,
     "metadata": {},
     "output_type": "execute_result"
    }
   ],
   "source": [
    "dataset.shape"
   ]
  },
  {
   "cell_type": "code",
   "execution_count": 26,
   "metadata": {},
   "outputs": [],
   "source": [
    "np.save('snares.npy', dataset)"
   ]
  },
  {
   "cell_type": "code",
   "execution_count": null,
   "metadata": {},
   "outputs": [],
   "source": []
  }
 ],
 "metadata": {
  "kernelspec": {
   "display_name": "Python 3",
   "language": "python",
   "name": "python3"
  },
  "language_info": {
   "codemirror_mode": {
    "name": "ipython",
    "version": 3
   },
   "file_extension": ".py",
   "mimetype": "text/x-python",
   "name": "python",
   "nbconvert_exporter": "python",
   "pygments_lexer": "ipython3",
   "version": "3.8.3"
  }
 },
 "nbformat": 4,
 "nbformat_minor": 4
}
